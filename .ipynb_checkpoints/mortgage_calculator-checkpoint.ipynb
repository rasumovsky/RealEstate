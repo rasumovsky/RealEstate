{
 "cells": [
  {
   "cell_type": "code",
   "execution_count": 27,
   "metadata": {
    "collapsed": true
   },
   "outputs": [],
   "source": [
    "# To run:\n",
    "# $ jupyter notebook"
   ]
  },
  {
   "cell_type": "code",
   "execution_count": 28,
   "metadata": {
    "collapsed": true
   },
   "outputs": [],
   "source": [
    "import numpy as np\n",
    "import matplotlib.pyplot as plt\n",
    "import scipy as scipy\n",
    "# Plot the figures inline and not in a pop-up\n",
    "%matplotlib inline"
   ]
  },
  {
   "cell_type": "code",
   "execution_count": 29,
   "metadata": {
    "collapsed": false
   },
   "outputs": [],
   "source": [
    "\"\"\"\n",
    "Calculates the annual payment amount.\n",
    "Args:\n",
    "  * principal: the principal amount of the loan.\n",
    "  * interest_rate: the annual interest rate on the loan.\n",
    "  * term_in_years: the number of years until the loan is paid.\n",
    "Returns:\n",
    "  * the annual payment amount.\n",
    "\"\"\"\n",
    "def GetAnnualPayment(principal, interest_rate, term_in_years):\n",
    "    annual_payment = (\n",
    "        (principal * ((1.0 + interest_rate)**term_in_years) * interest_rate) /\n",
    "        (((1.0 + interest_rate)**term_in_years) - 1.0))\n",
    "    return annual_payment"
   ]
  },
  {
   "cell_type": "code",
   "execution_count": 30,
   "metadata": {
    "collapsed": true
   },
   "outputs": [],
   "source": [
    "\"\"\"\n",
    "Calculates the monthly payment amount.\n",
    "Args:\n",
    "  * principal: the principal amount of the loan.\n",
    "  * interest_rate: the monthly interest rate on the loan.\n",
    "  * term_in_months: the number of months until the loan is paid.\n",
    "Returns:\n",
    "  * the monthly payment amount.\n",
    "\"\"\"\n",
    "def GetMonthlyPayment(principal, interest_rate, term_in_months):\n",
    "    annual_payment = GetAnnualPayment(principal, 12.0 * interest_rate,\n",
    "                                      term_in_months / 12.0)\n",
    "    return annual_payment / 12.0"
   ]
  },
  {
   "cell_type": "code",
   "execution_count": 31,
   "metadata": {
    "collapsed": true
   },
   "outputs": [],
   "source": [
    "\"\"\"\n",
    "Calculates the debt total after a number of years.\n",
    "Args:\n",
    "  * principal: the principal amount of the loan.\n",
    "  * interest_rate: the annual interest rate on the loan.\n",
    "  * payment: the amount paid each year.\n",
    "  * year: the number of years that have passed since loan issue.\n",
    "Returns:\n",
    "  * the amount of remaining debt after a specified number of years.\n",
    "\"\"\"\n",
    "def CalculateDebtAtYear(principal, interest_rate, payment, year):\n",
    "    z = (1.0 + interest_rate)\n",
    "    debt = (principal * (z**year)) - payment * ((z**year - 1) / (z - 1))\n",
    "    return debt"
   ]
  },
  {
   "cell_type": "code",
   "execution_count": 32,
   "metadata": {
    "collapsed": true
   },
   "outputs": [],
   "source": [
    "\"\"\"\n",
    "Calculates the debt total after a number of months.\n",
    "Args:\n",
    "  * principal: the principal amount of the loan.\n",
    "  * interest_rate: the annual interest rate on the loan.\n",
    "  * payment: the amount paid each month.\n",
    "  * month: the number of months that have passed since loan issue.\n",
    "Returns:\n",
    "  * the amount of remaining debt after a specified number of months.\n",
    "\"\"\"\n",
    "def CalculateDebtAtMonth(principal, interest_rate, payment, month):\n",
    "    return CalculateDebtAtYear(principal, 12.0 * interest_rate,\n",
    "                               12.0 * payment, month / 12.0)"
   ]
  },
  {
   "cell_type": "code",
   "execution_count": 33,
   "metadata": {
    "collapsed": true
   },
   "outputs": [],
   "source": [
    "\"\"\"\n",
    "Calculates the total value of the property at a specified number of years\n",
    "following the purchase, assuming some initial value and annual\n",
    "appreciation rate.\n",
    "Args:\n",
    "  * initial_value: the initial value of the property.\n",
    "  * appreciation_rate: the annual rate of increase in property value.\n",
    "  * num_years: the number of years since the initial purchase.\n",
    "Returns:\n",
    "  * property value after num_years.\n",
    "\"\"\"\n",
    "def GetPropertyValueAtYear(initial_value, appreciation_rate, num_years):\n",
    "    return initial_value * (1.0 + appreciation_rate)**num_years"
   ]
  },
  {
   "cell_type": "code",
   "execution_count": 34,
   "metadata": {
    "collapsed": true
   },
   "outputs": [],
   "source": [
    "\"\"\"\n",
    "Calculates the total value of the property at a specified number of\n",
    "months following the purchase, assuming some initial value and annual\n",
    "appreciation rate.\n",
    "Args:\n",
    "  * initial_value: the initial value of the property.\n",
    "  * appreciation_rate: the monthly rate of increase in property value.\n",
    "  * num_months: the number of months since the initial purchase.\n",
    "Returns:\n",
    "  * property value after num_months.\n",
    "\"\"\"\n",
    "def GetPropertyValueAtMonth(initial_value, appreciation_rate, num_months):\n",
    "    return GetPropertyValueAtYear(initial_value, 12.0 * appreciation_rate,\n",
    "                                  num_months / 12.0)"
   ]
  },
  {
   "cell_type": "code",
   "execution_count": 35,
   "metadata": {
    "collapsed": true
   },
   "outputs": [],
   "source": [
    "\"\"\"\n",
    "Calculates the total equity after a number of month.\n",
    "Args:\n",
    "  * principal: the principal amount of the loan.\n",
    "  * interest_rate: the monthly interest rate on the loan.\n",
    "  * payment: the amount paid each month.\n",
    "  * initial_property_value: the property value at purchase.\n",
    "  * appreciation_rate: the monthly rate of appreciation (fractional).\n",
    "  * month: the number of months that have passed since loan issue.\n",
    "Returns:\n",
    "  * the amount of equity in a property after a specified number of months.\n",
    "\"\"\"\n",
    "def CalculateEquityAtMonth(principal, interest_rate, payment,\n",
    "                           initial_property_value, appreciation_rate,\n",
    "                           month):\n",
    "    property_value = GetPropertyValueAtMonth(\n",
    "        initial_property_value, appreciation_rate, month)\n",
    "    remaining_debt = CalculateDebtAtMonth(principal, interest_rate,\n",
    "                                          payment, month)\n",
    "    return property_value - remaining_debt"
   ]
  },
  {
   "cell_type": "code",
   "execution_count": 36,
   "metadata": {
    "collapsed": true
   },
   "outputs": [],
   "source": [
    "\"\"\"\n",
    "Calculates the equity, debt, value, and payment.\n",
    "Args:\n",
    "  * initial_property_value: the property value at purchase.\n",
    "  * principal_loan_amount: the principal amount of the loan.\n",
    "  * annual_interest_rate: the annual interest rate on the loan.\n",
    "  * mortgage_term_years: the term of the mortgage in years.\n",
    "  * annual_appreciation_rate: the annual rate of appreciation.\n",
    "Returns:\n",
    "  * the amount of debt, equity, property value, and payment size.\n",
    "\"\"\"\n",
    "def CalculateAll(initial_property_value, principal_loan_amount,\n",
    "                 annual_interest_rate, mortgage_term_years,\n",
    "                 annual_appreciation_rate):\n",
    "    monthly_interest_rate = annual_interest_rate / 12.0\n",
    "    months_until_paid_off = mortgage_term_years * 12.0\n",
    "    monthly_appreciation_rate = annual_appreciation_rate / 12.0\n",
    "    monthly_payment_amount = GetMonthlyPayment(\n",
    "        principal_loan_amount, monthly_interest_rate,\n",
    "        months_until_paid_off)\n",
    "    print(\"Monthly payment:\", monthly_payment_amount)\n",
    "\n",
    "    months = list(range(int(months_until_paid_off)))\n",
    "    debts = [\n",
    "        CalculateDebtAtMonth(\n",
    "            principal_loan_amount, monthly_interest_rate,\n",
    "            monthly_payment_amount, month)\n",
    "        for month in months]\n",
    "    equities = [\n",
    "        CalculateEquityAtMonth(\n",
    "            principal_loan_amount, monthly_interest_rate,\n",
    "            monthly_payment_amount, initial_property_value,\n",
    "            annual_appreciation_rate / 12.0, month)\n",
    "        for month in months]\n",
    "    payments = [monthly_payment_amount] * len(months)\n",
    "    values = [\n",
    "        GetPropertyValueAtMonth(\n",
    "            initial_property_value, monthly_appreciation_rate, month)\n",
    "        for month in months]\n",
    "\n",
    "    return months, debts, equities, payments, values"
   ]
  },
  {
   "cell_type": "code",
   "execution_count": 48,
   "metadata": {
    "collapsed": false
   },
   "outputs": [],
   "source": [
    "\"\"\"\n",
    "Plots and calculates the equity, debt, value, and payment.\n",
    "Args:\n",
    "  * initial_property_value: the property value at purchase.\n",
    "  * principal_loan_amount: the principal amount of the loan.\n",
    "  * annual_interest_rate: the annual interest rate on the loan.\n",
    "  * mortgage_term_years: the term of the mortgage in years.\n",
    "  * annual_appreciation_rate: the annual rate of appreciation.\n",
    "Returns:\n",
    "  * A plot of the amount of debt, equity, property value, and payment size.\n",
    "\"\"\"\n",
    "def PlotAndGetValues(initial_property_value, principal_loan_amount,\n",
    "                     annual_interest_rate, mortgage_term_years,\n",
    "                     annual_appreciation_rate):\n",
    "    months, debts, equities, payments, values = CalculateAll(\n",
    "        initial_property_value, principal_loan_amount,\n",
    "        annual_interest_rate, mortgage_term_years,\n",
    "        annual_appreciation_rate)\n",
    "    \n",
    "    # Then plot the values.\n",
    "    fig, ax = plt.subplots(figsize=(10,5))\n",
    "    ax.plot(months, debts, label='Debt', color='r')\n",
    "    ax.plot(months, values, label='Property value', color='b')\n",
    "    ax.plot(months, equities, label='Equity', color='g')\n",
    "    ax.fill_between(months, scipy.zeros(len(debts)), debts,\n",
    "                    facecolor='r', alpha=0.3)\n",
    "    ax.fill_between(months, scipy.zeros(len(values)), values,\n",
    "                    facecolor='b', alpha=0.15)\n",
    "    ax.fill_between(months, scipy.zeros(len(equities)), equities,\n",
    "                    facecolor='g', alpha=0.3)\n",
    "    ax.legend(loc='upper left')\n",
    "    ax.set(xlabel='Months', ylabel='Value [$]', title='Equity vs. Debt')\n",
    "    ax.grid()\n",
    "    plt.show()\n",
    "\n",
    "    return months, debts, equities, payments, values"
   ]
  },
  {
   "cell_type": "code",
   "execution_count": 49,
   "metadata": {
    "collapsed": false
   },
   "outputs": [
    {
     "name": "stdout",
     "output_type": "stream",
     "text": [
      "Monthly payment: 1115.2822253848265\n"
     ]
    },
    {
     "name": "stderr",
     "output_type": "stream",
     "text": [
      "//anaconda/lib/python3.5/site-packages/matplotlib/collections.py:590: FutureWarning: elementwise comparison failed; returning scalar instead, but in the future will perform elementwise comparison\n",
      "  if self._edgecolors == str('face'):\n"
     ]
    },
    {
     "data": {
      "image/png": "[encoded data removed]",
      "text/plain": [
       "<matplotlib.figure.Figure at 0x11333fe80>"
      ]
     },
     "metadata": {},
     "output_type": "display_data"
    }
   ],
   "source": [
    "# Property-related parameters:\n",
    "initial_property_value_ = 250000.0\n",
    "annual_appreciation_rate_ = 0.02\n",
    "\n",
    "# Mortgage-related parameters:\n",
    "principal_loan_amount_ = 200000.0\n",
    "annual_interest_rate_ = 0.0525\n",
    "mortgage_term_years_ = 30.0\n",
    "\n",
    "months, debts, equities, payments, property_values = PlotAndGetValues(\n",
    "    initial_property_value_, principal_loan_amount_,\n",
    "    annual_interest_rate_, mortgage_term_years_,\n",
    "    annual_appreciation_rate_)"
   ]
  },
  {
   "cell_type": "code",
   "execution_count": null,
   "metadata": {
    "collapsed": true
   },
   "outputs": [],
   "source": []
  }
 ],
 "metadata": {
  "kernelspec": {
   "display_name": "Python 3",
   "language": "python",
   "name": "python3"
  },
  "language_info": {
   "codemirror_mode": {
    "name": "ipython",
    "version": 3
   },
   "file_extension": ".py",
   "mimetype": "text/x-python",
   "name": "python",
   "nbconvert_exporter": "python",
   "pygments_lexer": "ipython3",
   "version": "3.5.0"
  }
 },
 "nbformat": 4,
 "nbformat_minor": 0
}
